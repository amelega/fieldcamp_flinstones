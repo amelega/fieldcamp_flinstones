{
 "cells": [
  {
   "cell_type": "code",
   "execution_count": 3,
   "id": "7e270445-a77b-4875-840e-86f4634b8ab8",
   "metadata": {},
   "outputs": [],
   "source": [
    "import pandas as pd\n",
    "import numpy as np\n",
    "import matplotlib.pyplot as plt\n",
    "\n",
    "# Load Excel sheets\n",
    "dfs = pd.read_excel('../data/2022_Gravity.xlsx', sheet_name=None)\n",
    "\n",
    "# Gravity correction function\n",
    "def process_gravity(df):\n",
    "    # Drift Correction\n",
    "    base_idx = np.where(df['Base'] == 'base')[0]\n",
    "    times = df['Time (h)']\n",
    "    obs = df['obs (mGal)']\n",
    "    g_drift = np.interp(times, times[base_idx], obs[base_idx])\n",
    "    drift = obs - g_drift\n",
    "\n",
    "    # Free-air Correction\n",
    "    fa_corr = -0.3086 * df[\"Elevation (m)\"]\n",
    "    fa_corrected = drift - fa_corr\n",
    "\n",
    "    # Bouguer Correction (assumes 2670 kg/m³)\n",
    "    bouguer_corr = 0.0921995 * df[\"Elevation (m)\"]\n",
    "    final_corr = fa_corrected - bouguer_corr\n",
    "\n",
    "    # Store in DataFrame\n",
    "    df[\"Corrected\"] = final_corr\n",
    "    return df\n",
    "\n",
    "# Apply to all sheets\n",
    "for sheet in dfs:\n",
    "    dfs[sheet] = process_gravity(dfs[sheet])\n",
    "\n",
    "# Save corrected results\n",
    "with pd.ExcelWriter(\"../data/2022_Gravity_Corrected.xlsx\") as writer:\n",
    "    for sheet_name, df in dfs.items():\n",
    "        df.to_excel(writer, sheet_name=sheet_name, index=False)\n"
   ]
  }
 ],
 "metadata": {
  "kernelspec": {
   "display_name": "Python 3 (ipykernel)",
   "language": "python",
   "name": "python3"
  },
  "language_info": {
   "codemirror_mode": {
    "name": "ipython",
    "version": 3
   },
   "file_extension": ".py",
   "mimetype": "text/x-python",
   "name": "python",
   "nbconvert_exporter": "python",
   "pygments_lexer": "ipython3",
   "version": "3.11.10"
  }
 },
 "nbformat": 4,
 "nbformat_minor": 5
}
